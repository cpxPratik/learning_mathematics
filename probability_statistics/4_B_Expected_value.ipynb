{
 "cells": [
  {
   "cell_type": "markdown",
   "metadata": {},
   "source": [
    "### Q. Define Expected Value. \n",
    "\n",
    "The expected value of X is denoted E(X) and defined by \n",
    "\n",
    "$ E(X) = p(x_1)x_1 + p(x_2)x_2 + .... + p(x_n)x_n$\n",
    "\n",
    "\n",
    "Thoughts: Suppose we have two masses along the x-axis, mass m1 = 500 at position x1 = 3 and mass m2 = 100 at position x2 = 6. Where is the center of mass?\n",
    "\n",
    "Intuitively we know that the center of mass is closer to the larger mass. From physics we know the center of mass is\n",
    "$ \\bar{x} = \\frac{m_1x_1 + m_2x_2}{m_1 + m_2} = \\frac{500*3 +100*6}{600} = 3.5 $\n",
    "\n",
    "We call this formula a 'weighted' average of the x_1 and x_2. Here x_1 is weighted more heavily because it has more mass. \n",
    "\n",
    "When we looked at the defination of expected value E(X). It is a weighted average of the values of X with the weights being probabilities p(x_i) rather than masses!. We might say that \"The expected value is the point at which the distribution would balance\"."
   ]
  },
  {
   "cell_type": "markdown",
   "metadata": {},
   "source": [
    "### Notes: Algebraic properties of E(X)\n",
    "\n",
    "1. If X and Y are random variables on a sample space $ \\omega $ then $ E(X + Y) = E(X) + E(Y) $\n",
    "2. If a and b are constants then E(aX + b) = aE(X) + b"
   ]
  },
  {
   "cell_type": "markdown",
   "metadata": {},
   "source": [
    "### Notes: Expected values of functions of a random variable\n",
    "\n",
    "If X is a discrete random variables thaking values $ x_1, x_2.... $ and h is a function and h(X) is a new random variables. Its expected value is\n",
    "\n",
    "$ E(h(X)) = h(x_1)p(x_1) + h(x_2)p(x_2) + ......... h(x_n)p(x_n) $"
   ]
  },
  {
   "cell_type": "code",
   "execution_count": null,
   "metadata": {},
   "outputs": [],
   "source": []
  }
 ],
 "metadata": {
  "kernelspec": {
   "display_name": "Python 3",
   "language": "python",
   "name": "python3"
  },
  "language_info": {
   "codemirror_mode": {
    "name": "ipython",
    "version": 3
   },
   "file_extension": ".py",
   "mimetype": "text/x-python",
   "name": "python",
   "nbconvert_exporter": "python",
   "pygments_lexer": "ipython3",
   "version": "3.6.5"
  }
 },
 "nbformat": 4,
 "nbformat_minor": 2
}
