{
 "cells": [
  {
   "cell_type": "markdown",
   "metadata": {},
   "source": [
    "### Notes: What each distribution models.\n",
    "\n",
    "1. Uniform distribution: All outcomes in the range have equal probability (more precisely all outcomes have the same probability density).\n",
    "\n",
    "2. Exponential distribution: The waiting time for a continuous process to change state.\n",
    "\n",
    "3. Normal distribution: Measurement error, intelligence/ability, height, averages of lots of data."
   ]
  },
  {
   "cell_type": "markdown",
   "metadata": {},
   "source": [
    "### Notes: Conclusion drawn from the pdf\n",
    "\n",
    "1. Higher the curve f(x) the most probable that something in that region occurs.\n",
    "2. The curve (pdf) can only be positive or zero f(x) >= 0\n",
    "3. The whole area under the curve has a measure of 1 which corresponds to 100% (everything that can happpen is that under the curve). \n",
    "4. Since everything under the curve corresponds to 100 then it logical to say that the probability that something occurs between two points a and b is the area between these two points.\n",
    "5. Probability equals to area and area under curves are measures as the integral of the curve. \n",
    "6. If you choose a=b then\n",
    "\n",
    "$ p(a<=X<=b) = P(a<=X<=a) =P(X=a)=\\int_{a}^{a}f(x)d(x) = 0 $\n",
    "\n",
    "which agress with the intuation that there is no point to ask about the probability that something occurs in a certain moment in the future, but only in a time interval of considerable length. "
   ]
  },
  {
   "cell_type": "code",
   "execution_count": null,
   "metadata": {},
   "outputs": [],
   "source": []
  }
 ],
 "metadata": {
  "kernelspec": {
   "display_name": "Python 3",
   "language": "python",
   "name": "python3"
  },
  "language_info": {
   "codemirror_mode": {
    "name": "ipython",
    "version": 3
   },
   "file_extension": ".py",
   "mimetype": "text/x-python",
   "name": "python",
   "nbconvert_exporter": "python",
   "pygments_lexer": "ipython3",
   "version": "3.6.5"
  }
 },
 "nbformat": 4,
 "nbformat_minor": 2
}
