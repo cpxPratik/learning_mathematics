{
 "cells": [
  {
   "cell_type": "markdown",
   "metadata": {},
   "source": [
    "# Notes\n",
    "1. Suppose there are n possible outcomes for an experiment and each is equally probable. If there are k desirable outcomes then the probability of a desirable outcome is k/n."
   ]
  },
  {
   "cell_type": "markdown",
   "metadata": {},
   "source": [
    "### Q. What is inclusion-exclusion principle?\n",
    "$ A \\cup B = A + B - A\\cap B $\n"
   ]
  },
  {
   "cell_type": "markdown",
   "metadata": {},
   "source": [
    "### Q. What is product rule?\n",
    "\n",
    "If there are n ways to perfrom action 1 and then m ways to perform action 2, then there are n * m ways to perfrom action 1 followed by action 2. \n",
    "\n",
    "Here, the number of ways to perform action 2 is independent of action 1. \n"
   ]
  },
  {
   "cell_type": "markdown",
   "metadata": {},
   "source": [
    "### Q. What is permutation? \n",
    "\n",
    "A permutation of a set is arrangement of its elements where the order matters.\n",
    "\n",
    "To get the permutation we can also apply multiplication rule.\n",
    "\n",
    "$_nP_k$ = number of ways k distinct elements can be arranged in particular order from a set of size n.\n"
   ]
  },
  {
   "cell_type": "markdown",
   "metadata": {},
   "source": [
    "### Q. What is combination?\n",
    "\n",
    "A combination of a set is arrangement of its elements where the order doesn't matters. \n",
    "\n",
    "$_nC_k$ = number of subset of k distinct elements can be arranged from a set of size n."
   ]
  },
  {
   "cell_type": "code",
   "execution_count": null,
   "metadata": {},
   "outputs": [],
   "source": []
  }
 ],
 "metadata": {
  "kernelspec": {
   "display_name": "Python 3",
   "language": "python",
   "name": "python3"
  },
  "language_info": {
   "codemirror_mode": {
    "name": "ipython",
    "version": 3
   },
   "file_extension": ".py",
   "mimetype": "text/x-python",
   "name": "python",
   "nbconvert_exporter": "python",
   "pygments_lexer": "ipython3",
   "version": "3.6.5"
  }
 },
 "nbformat": 4,
 "nbformat_minor": 2
}
