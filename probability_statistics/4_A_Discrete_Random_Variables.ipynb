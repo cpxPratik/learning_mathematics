{
 "cells": [
  {
   "cell_type": "markdown",
   "metadata": {},
   "source": [
    "# Notes:\n",
    "1. Probability distribution function is the function defining probability distribution. It is of two types: probability mass function and probability density function. The probability mass function is defined for discrete random variables and probability density function is defined for continuous random variables."
   ]
  },
  {
   "cell_type": "markdown",
   "metadata": {},
   "source": [
    "### Q. What is random variable?\n",
    "\n",
    "A random variable assigns a number to each outcome in a sample space. It is 'random' because its value depends on a random outcome of an experiment. And we treat random variable like we  would a usual variable: we can add it to other random variables, square it, and so on.\n",
    "\n",
    "\n",
    "In probability and statistics, random variables are used to qunatify outcomes of a random occurence, and therefore, can take on many values. Random variables are required to be measurable and are typically real numbers. For example, the letter X may be designated to represent the sum of the resulting numbers after three dice are rolled. In this case, X  could be 3(1+1+1), 18(6+6+6), or somewhere between 3 and 18, since the highest number of a die is 6 and the lowest numbers is 1. \n",
    "\n",
    "\n",
    "A random variable is different from an algebra variable. The variable in an algebric equation is an unknown value that can be calculated. The equation 10 + x = 13 shows that we can calculate the specific value for x which is 3. On the other hand, a random variable has a set of values, and any of those values could be the resulting outcomes as seen in the example of the dice above.\n",
    "\n",
    "A random variables can be either discrete or continuous. \n",
    "1. Discrete random variables take on a countable number of distinct values. Consider an experiment where a coin is tosssed three times. If X represents the number of times that the coin comes up heads, then X is a discrete random variables that can only have the values 0,1,2,3 (from no heads in three successive coin tosses, to all heads). No other values is possible for X.\n",
    "2. Continuous random variables can represent any value within a specified range or interval, and can take on an infinite number of possible values. An example of a continuous random variable would be an experiment that involves measuring the amount of rainfall in a city over a year, or the average height of a random group of 25 people. Drawing on the latter, if Y represents the random variable for the average height of a random group of 25 people, you will find that the resulting outcome is a continuous figure since height may be 5 ft or 5.01 ft or 5.0001 ft. Clearly, there is an infinite number of possible values for height.\n",
    "\n"
   ]
  },
  {
   "cell_type": "markdown",
   "metadata": {},
   "source": [
    "### Q. How events and random variables are associated?\n",
    "\n",
    "For any value $ \\alpha $ we write $ X = \\alpha $ to mean the event consisting of all outcomes $ \\omega $ with $ X( \\omega ) = \\alpha $"
   ]
  },
  {
   "cell_type": "markdown",
   "metadata": {},
   "source": [
    "### Q. What is probability mass function?\n",
    "\n",
    "Probability mass function (PMF) also called a frequency function gives you probabilities for discrete random variables.\n",
    "\n",
    "The probability mass function (PMF) of a discrete random variable is the function $ p(\\alpha) = P(X = \\alpha) $\n"
   ]
  },
  {
   "cell_type": "markdown",
   "metadata": {},
   "source": [
    "### Q. How events, inequalities and random variable are related?\n",
    "\n",
    "Inequalities with random variables describe events. For example $ X <= \\alpha $ is the set of all outcomes $ \\omega $ such that $ X(\\omega) <= \\alpha $"
   ]
  },
  {
   "cell_type": "markdown",
   "metadata": {},
   "source": [
    "### Q. What is cumulative distribution function (CDF)? \n",
    "\n",
    "A cumulative distribution function (CDF) is a function that describes the probability of a random variables taking on a given value or less. \n",
    "\n",
    "The CDF of a random variable X is the function F given by F(a) = P(X <= a). \n",
    "\n",
    "F(a) is called the cumulative distribution function because F(a) gives the total probability that accumulates by adding up the probabilities p(b) as b runs from -infinity to a. \n"
   ]
  },
  {
   "cell_type": "markdown",
   "metadata": {},
   "source": [
    "### Q. What is bernoulli distribution?\n",
    "\n",
    "The bernoulli distribution models one trail in an experiment that can result in either success or failure. A random variable X has a Bernoulli distribution with parameter p if:\n",
    "\n",
    "1. X takes the values 0 and 1.\n",
    "2. P(X=1) = p and P(X=0) = 1 - p\n"
   ]
  },
  {
   "cell_type": "markdown",
   "metadata": {},
   "source": [
    "### Q. What is binomial distribution?\n",
    "\n",
    "Binomial distribution models the number of successes in n independent Bernoulli(p) trails. A bernoulli random variable takes values 0 and 1 and a binomial random variables takes values 0, 1, 2,.... n.\n",
    "\n",
    "$ Binomial(n, k) =nC_k p^k (1-p)^{n-k}$ (Probability mass function)\n",
    "\n",
    "Here $ nC_k $ is the number of ways we can choose k out of n things. \n"
   ]
  },
  {
   "cell_type": "markdown",
   "metadata": {},
   "source": [
    "### Q. In case of 5 coin flips what is the probability that we get exactly 2 head?\n",
    "\n",
    "The event is HHTTT, HTHTT, HTTHT, HTTTH, THHTT, THTHT, THTTH, TTHHT, TTHTH, TTTHH and the number of element in event is 10. Each entry has the same probability of occurring, namely $p^2(1-p)^3$. This is because each of the two heads has probability p and each of the 3 tails has probability 1-p. Because the individual tosses are independent we can multiply probabilities. Therefore, the total probability of exactly 2 heads is the sum of 10 identical probabilities, i.e. $ p(2) = 10p^2(1-p)^3. $\n",
    "\n",
    "Here we have to count the number of sequence with exactly 2 heads. To do this we need to choose 2 of the tosses to be heads and the remaining 3 to be tails. The number of such sequences is the number of ways to choose 2 out of 5 things, that is $5C_2$. \n",
    "\n",
    "In this case we get the count by think as we have H,H and T,T,T and what is the total number of ways we can arrange the H, H, T, T,T. "
   ]
  },
  {
   "cell_type": "markdown",
   "metadata": {},
   "source": [
    "### Q. What is geometric distributions?\n",
    "\n",
    "Geometric distribution models the number of tails before the first head in a sequence of coin flips (Bernoulli trials) \n",
    "\n",
    "We can modify the defination as X is number of failure before success, or X is number of success before failure. \n",
    "\n",
    "The random variable X follows a geometric distribution with parameter p if:\n",
    "1. X takes the values 0, 1, 2, 3...\n",
    "2. Its pmf is given by $ p(k) = P(X = k) = (1-p)^kp $\n",
    "\n",
    "\n",
    "\n"
   ]
  },
  {
   "cell_type": "markdown",
   "metadata": {},
   "source": [
    "### Q. What is Uniform Distribution? \n",
    "\n",
    "The uniform distribution models any situation where all the outcomes are equally likely.\n",
    "If X is uniform(N) then X can takes values 1,2,3... N, each with probability 1/N. We have already seen this distribution many times when modeling to fair coins (N=2), dice (N=6), birthdays (N=365)."
   ]
  },
  {
   "cell_type": "code",
   "execution_count": null,
   "metadata": {},
   "outputs": [],
   "source": []
  }
 ],
 "metadata": {
  "kernelspec": {
   "display_name": "Python 3",
   "language": "python",
   "name": "python3"
  },
  "language_info": {
   "codemirror_mode": {
    "name": "ipython",
    "version": 3
   },
   "file_extension": ".py",
   "mimetype": "text/x-python",
   "name": "python",
   "nbconvert_exporter": "python",
   "pygments_lexer": "ipython3",
   "version": "3.6.5"
  }
 },
 "nbformat": 4,
 "nbformat_minor": 2
}
