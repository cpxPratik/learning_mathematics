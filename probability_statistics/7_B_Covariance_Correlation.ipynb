{
 "cells": [
  {
   "cell_type": "markdown",
   "metadata": {},
   "source": [
    "# What is Covariance?\n",
    "\n",
    "Covariance is a measure of how much two random variables vary together. For example height and weight of giraffes have positive covariance because when one is big the other tends also tends to be big.\n",
    "\n",
    "Suppose X and Y are random variables with means $ \\mu_x $ and $ \\mu_y $. The covariance of X and Y is defined as \n",
    "$ Cov(X,Y) = E((X - \\mu_x)(Y - \\mu_y)) $\n",
    "\n",
    "If X and Y are independent then Cov(X,Y) = 0. But the converse is false i.e zero covariance does not always imply independence. \n",
    "\n",
    "Since covariance is defined as an expected value we compute it in the usual way as a sum or integral.\n",
    "\n",
    "Discrete Case: If X and Y have joint pmf $ p(x_i, y_i) $ then\n",
    "\n",
    "$ Cov(X,Y) = \\sum_{i=1}^{n}\\sum_{j=1}^{m}{p(x_i, y_i)(x_i - \\mu_x)(y_j - \\mu_y)} = \n",
    "(\\sum_{i=1}^{n}\\sum_{j=1}^{m}{p(x_i, y_i) x_i, y_j}) - \\mu_x \\mu_y $\n",
    "\n",
    "Continuous Case: If X and Y have joint pdf f(x,y) over range [a,b] * [c,d] then\n",
    "\n",
    "$ Cov(X,Y) = \\int_{c}^{d} \\int_{a}^{b}{(x-\\mu_x)(y-\\mu_y)f(x,y)dxdy} = \n",
    "(\\int_{c}^{d} \\int_{a}^{b}{xyf(x,y)dxdy) - \\mu_x \\mu_y }$"
   ]
  },
  {
   "cell_type": "markdown",
   "metadata": {},
   "source": [
    "# What is Correlation Coefficient?\n",
    "\n",
    "The units of covariance Cov(X,Y) are 'units of X times units of Y'. This makes it hard to compare covariances: if we change scales then the covariance changes as well. Correlation is a way to remove the scale from the covariance. \n",
    "\n",
    "The correlation coefficient between X and Y is defined by\n",
    "\n",
    "$ Cor(X, Y) = \\rho = \\frac{Cov(X,Y)}{\\sigma_x\\sigma_y} $\n",
    "\n",
    "Properties:\n",
    "\n",
    "1. $ \\rho $ is the covariance of the standardizations of X and Y.\n",
    "2. $ \\rho $ is dimensionless (it's a ratio !)\n",
    "3. $-1 <= \\rho <=1 $. Furthermore, \n",
    "\n",
    "    a. $ \\rho = +1 $ if and only if Y = aX + b with a > 0,\n",
    "    \n",
    "    b. $ \\rho = -1 $ if and only if Y = aX + b with a < 0.\n",
    "    \n",
    "Property 3 shows that $ \\rho $ measures the linear relationship between variables. If the correlation is positive then when X is large, Y will tend to large as well. If the correlation is negative then when X is large, Y will tend to be small."
   ]
  },
  {
   "cell_type": "code",
   "execution_count": null,
   "metadata": {},
   "outputs": [],
   "source": []
  }
 ],
 "metadata": {
  "kernelspec": {
   "display_name": "Python 3",
   "language": "python",
   "name": "python3"
  },
  "language_info": {
   "codemirror_mode": {
    "name": "ipython",
    "version": 3
   },
   "file_extension": ".py",
   "mimetype": "text/x-python",
   "name": "python",
   "nbconvert_exporter": "python",
   "pygments_lexer": "ipython3",
   "version": "3.6.5"
  }
 },
 "nbformat": 4,
 "nbformat_minor": 2
}
