{
 "cells": [
  {
   "cell_type": "markdown",
   "metadata": {},
   "source": [
    "### Q. What is Conditional Probability?\n",
    "\n",
    "How does the probability of an event change if we have extra information.\n",
    "\n",
    "$ P(A|B) = \\frac{P(A \\cap B)}{P(B)} $\n",
    "\n",
    "P(A|B) = the probability of A conditioned on B; the probability of A given B; the conditional probability of A given B\n",
    "\n",
    "\n"
   ]
  },
  {
   "cell_type": "markdown",
   "metadata": {},
   "source": [
    "### Q. What is law of total probability?\n",
    "\n",
    "Suppose the sample space is divided into 3 disjoint events B1, B2, B3. Then for any event A:\n",
    "\n",
    "$ P(A) = P(A \\cap B_1) + P(A \\cap B_2) + P(A \\cap B_3) $\n",
    "$ P(A) = P(A|B_1)P(B_1) + P(A|B_2)P(B_2) + p(A|B_3)P(B_3) $\n",
    "\n",
    "If A is divided into 3 pieces then P(A) is the sum of the probabilities of the pieces."
   ]
  },
  {
   "cell_type": "markdown",
   "metadata": {},
   "source": [
    "### Q. What is independent event?\n",
    "\n",
    "Two events are independent if knowledge that one occurred does not chage the probabilities that the other occured. \n",
    "\n",
    "A is independent of B if P(A|B) = P(A)\n",
    "\n",
    "Also, $ P(A \\cap B) = P(A)*P(B) $"
   ]
  },
  {
   "cell_type": "markdown",
   "metadata": {},
   "source": [
    "### Q. What is difference between independent event and disjoint event (Mutually exclusive)?\n",
    "\n",
    "Events are mutually exclusive if the occurence of one event excludes the occurrence of the other(s). Mutually exclusive events cannot happen at the same time. For example: when tossing a coin, the result can either be heads or tails but cannot be both.\n",
    "\n",
    "Some properties hold by mutually exclusive A, B is\n",
    "1. $ P(A \\cap B) = 0 $\n",
    "2. $ P(A \\cup B) = P(A) + P(B) $\n",
    "3. $ P(A|B) = 0 $\n",
    "\n",
    "\n",
    "Events are independent if the occurrence of one event does not influence (and is not influenced by) the occurrence of the other(s). For example: when tossing two coins, the result of one flip does not affect the result of the other.\n",
    "\n",
    "Some properties hold by independent event A,B is\n",
    "1. $ P(A \\cap B) = P(A)P(B) $\n",
    "2. $ P(A \\cup B) = P(A) + P(B) - P(A)P(B) $\n",
    "3. $ P(A | B) = P(A) $\n",
    "\n",
    "This of course means mutually exclusive events are not independent, and independent events cannot be mutually exclusive. (Events of measure zero expected)."
   ]
  },
  {
   "cell_type": "markdown",
   "metadata": {},
   "source": [
    "### Q. What is Bayes' Theorem?\n",
    "\n",
    "$ P(A|B) = \\frac{P(A|B)P(B)}{P(A)} $\n",
    "\n",
    "Comments:\n",
    "1. Bayes' rule tells us how to 'invert' conditional probabilities, i.e. to find P(B|A) from P(A|B).\n",
    "2. In practice, P(A) is often computed using the law of total probability."
   ]
  },
  {
   "cell_type": "code",
   "execution_count": null,
   "metadata": {},
   "outputs": [],
   "source": []
  }
 ],
 "metadata": {
  "kernelspec": {
   "display_name": "Python 3",
   "language": "python",
   "name": "python3"
  },
  "language_info": {
   "codemirror_mode": {
    "name": "ipython",
    "version": 3
   },
   "file_extension": ".py",
   "mimetype": "text/x-python",
   "name": "python",
   "nbconvert_exporter": "python",
   "pygments_lexer": "ipython3",
   "version": "3.6.5"
  }
 },
 "nbformat": 4,
 "nbformat_minor": 2
}
