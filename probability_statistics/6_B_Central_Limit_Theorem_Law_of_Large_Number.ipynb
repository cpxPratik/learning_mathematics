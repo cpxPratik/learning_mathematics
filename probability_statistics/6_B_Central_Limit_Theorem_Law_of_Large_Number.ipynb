{
 "cells": [
  {
   "cell_type": "markdown",
   "metadata": {},
   "source": [
    "### Q. What is Law of Large Number?\n",
    "\n",
    "The LoLN tells us two things:\n",
    "1. The average of many independent samples drawn from same underlying distribution is (with high probability) close to the mean of the underlying distribution. \n",
    "2. The density histogram of many independent samples drawn from sample underlying distribution is (with high probability) close the the graph of the density of the underlying distribution. "
   ]
  },
  {
   "cell_type": "markdown",
   "metadata": {},
   "source": [
    "### Q. What is Central Limit Theorem? \n",
    "\n",
    "Suppose, $ X_1, X_2, X_3, ..... , X_n $ are i.i.d random variables each having mean $ \\mu $ and standard deviation $ \\sigma $. For each n let $ S_n $ denote the sum and let $ \\overline{X_n} $ be the average sof $ X_1, X_2, ... X_n $\n",
    "\n",
    "$ S_n = X_1 + X_2 + ... + X_n $\n",
    "\n",
    "$ \\overline{X_n} = \\frac{X_1 + X_2 + ... X_n}{n} = \\frac{S_n}{n} $\n",
    "\n",
    "For large n,\n",
    "\n",
    "$\\overline{X_n} = N(\\mu, \\sigma^2/n) $\n",
    "\n",
    "$ S_n = N(n\\mu, n\\sigma^2) $\n",
    "\n",
    "$ Z_n = N(0,1) $\n",
    "\n",
    "In words:\n",
    "1. $ \\overline{X_n} $ is approximately a normal distribution with the same mean as X but a smaller variance.\n",
    "2. $ S_n $ is approximately normal.\n",
    "3. Standardized $ \\overline{X_n} $ and $ S_n $ are approximately standard normal. \n",
    "\n",
    "So, the Central Limit Theorem states that the sampling distribution of the sample means approaches a normal distribution as the sample size gets larger — no matter what the shape of the population distribution. "
   ]
  },
  {
   "cell_type": "code",
   "execution_count": null,
   "metadata": {},
   "outputs": [],
   "source": []
  }
 ],
 "metadata": {
  "kernelspec": {
   "display_name": "Python 3",
   "language": "python",
   "name": "python3"
  },
  "language_info": {
   "codemirror_mode": {
    "name": "ipython",
    "version": 3
   },
   "file_extension": ".py",
   "mimetype": "text/x-python",
   "name": "python",
   "nbconvert_exporter": "python",
   "pygments_lexer": "ipython3",
   "version": "3.6.5"
  }
 },
 "nbformat": 4,
 "nbformat_minor": 2
}
