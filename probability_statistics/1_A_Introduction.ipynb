{
 "cells": [
  {
   "cell_type": "markdown",
   "metadata": {},
   "source": [
    "### Q. Difference Between Probability and Statistics?\n",
    "\n",
    "\n",
    "Probability:\n",
    "1. Probability deals with predicting the likelihood of future events.\n",
    "2. In probability theory we consider some underlying process which has some randomness or uncertainity modeled by random variables, and we figure out what happens. \n",
    "\n",
    "\n",
    "Stastics:\n",
    "1. Statistics involves the analysis of the frequencey of past events. \n",
    "2. In statistics we observe something that has happened, and try to figure out what underlying process would explain those observations.\n",
    "\n",
    "\n",
    "**Probability example:**\n",
    "\n",
    "You have a fair coin (equal probability of heads or tails). You will toss it 100 times. What is the probability of 60 or more heads? \n",
    "\n",
    "Here, the underlying random process is fully known (probability of heads = 0.5). The objective is to find the probability of a certain outcome (at least 60 heads) arising from the random process.\n",
    "\n",
    "**Statistics example:**\n",
    "\n",
    "You have a coin of unknown provenance. To invetigate whether it is fair coin or not, you toss it 100 times and count the number of heads. Let's say you count 60 heads. Now statistician draw a conclusion (inference) from this data. \n",
    "\n",
    "Here, the outcome is known (60 heads) and the objective is to illuminate the unknown random process (the probability of heads)."
   ]
  },
  {
   "cell_type": "markdown",
   "metadata": {},
   "source": [
    "### Q. Difference between frequentist and bayesian?\n",
    "\n",
    "I have misplaces my phone somewhere in the home. I can use the phone locator on the base of the instrument to locate the phone and when I press the phone locator the phone starts beeping.\n",
    "\n",
    "Problem: Which area of my home should I search?\n",
    "\n",
    "**Frequentist Reasoning**\n",
    "\n",
    "I can hear the phone beeping. I also have a mental model which helps me identify the area from which the sound is coming. Therefore, upon hearing the beep, I infer the area of my home I must search to locate the phone.\n",
    "\n",
    "**Bayesian Reasoning**\n",
    "\n",
    "I can hear the phone beeping. Now, apart from a mental model which helps me identify the area from which the sound is coming from, I also know the locations where I have misplaced the phone in the past. So, I combine my inferences using the beeps and my prior information about the locations I have misplaced the phone in the past to identiy an area I must search to locate the phone.\n",
    "\n"
   ]
  },
  {
   "cell_type": "code",
   "execution_count": null,
   "metadata": {},
   "outputs": [],
   "source": []
  }
 ],
 "metadata": {
  "kernelspec": {
   "display_name": "Python 3",
   "language": "python",
   "name": "python3"
  },
  "language_info": {
   "codemirror_mode": {
    "name": "ipython",
    "version": 3
   },
   "file_extension": ".py",
   "mimetype": "text/x-python",
   "name": "python",
   "nbconvert_exporter": "python",
   "pygments_lexer": "ipython3",
   "version": "3.6.5"
  }
 },
 "nbformat": 4,
 "nbformat_minor": 2
}
