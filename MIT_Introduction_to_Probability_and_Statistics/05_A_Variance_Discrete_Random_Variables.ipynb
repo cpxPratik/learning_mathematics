{
 "cells": [
  {
   "cell_type": "markdown",
   "metadata": {},
   "source": [
    "### Q. What is variance? \n",
    "\n",
    "The variance is a measure of how much the probability mass is spread out around this center. \n",
    "\n",
    "If X is a random variable with mean $ E(X) = \\mu $, then the variance of X is defined by\n",
    "\n",
    "$ Var(X) = E((X - \\mu )^2) = p(x_1)(x_1 - \\mu)^2 + p(x_2)(x_2 - \\mu)^2 + ........ + p(x_n)(x_n - \\mu)^2 $\n",
    "\n",
    "Here we are taking the weighted average of the squared distance to the mean. By squaring, we make sure we are averaging only non-negative values, so that the spread to the right of the mean won't cancel that to the left. By using expectation, we are weighting high probability values more than low probability values. \n"
   ]
  },
  {
   "cell_type": "markdown",
   "metadata": {},
   "source": [
    "### Notes: Independent \n",
    "\n",
    "The discrete random variables X and Y are independent if $ P(X=a, Y=b) = P(X=a)P(Y=b) $"
   ]
  },
  {
   "cell_type": "markdown",
   "metadata": {},
   "source": [
    "### Notes: Properties of variance\n",
    "\n",
    "1. If X and Y are independent then $ Var(X+Y) = Var(X) + Var(Y) $\n",
    "2. For constants a and b,$ Var(aX + b) = a^2 Var(X) $\n",
    "3. $ Var(X) = E(X^2) - E(X)^2 $"
   ]
  },
  {
   "cell_type": "code",
   "execution_count": null,
   "metadata": {},
   "outputs": [],
   "source": []
  }
 ],
 "metadata": {
  "kernelspec": {
   "display_name": "Python 3",
   "language": "python",
   "name": "python3"
  },
  "language_info": {
   "codemirror_mode": {
    "name": "ipython",
    "version": 3
   },
   "file_extension": ".py",
   "mimetype": "text/x-python",
   "name": "python",
   "nbconvert_exporter": "python",
   "pygments_lexer": "ipython3",
   "version": "3.6.5"
  }
 },
 "nbformat": 4,
 "nbformat_minor": 2
}
