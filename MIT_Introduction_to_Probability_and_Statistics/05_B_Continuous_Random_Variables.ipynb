{
 "cells": [
  {
   "cell_type": "markdown",
   "metadata": {},
   "source": [
    "### Q. What is probability density function?\n",
    "\n",
    "A random variable X is continuous if there is a function f(x) such that form any c<=d we have\n",
    "\n",
    "$P(x<=X<=d) = \\int_{c}^{d} f(x) dx$\n",
    "\n",
    "The function f(x) is called the probability density function (pdf).\n",
    "\n",
    "The pdf always satisfied the following properties:\n",
    "1. f(x) >= 0 (f is non negative)\n",
    "2. $ \\int_{-\\infty}^{\\infty} f(x)dx = 1 $\n",
    "\n",
    "\n",
    "The probability density function f(x) of a continuous random variable is the analogue of the probability mass function p(x) of a discrete random variable. Here are two important differences:\n",
    "\n",
    "1. Unlike p(x), the pdf f(x) is not a probability. You have to integrate it to get probability.\n",
    "2. Since f(x) is not a probability, there is no restriction that f(x) be less than or equal to 1."
   ]
  },
  {
   "cell_type": "code",
   "execution_count": null,
   "metadata": {},
   "outputs": [],
   "source": []
  }
 ],
 "metadata": {
  "kernelspec": {
   "display_name": "Python 3",
   "language": "python",
   "name": "python3"
  },
  "language_info": {
   "codemirror_mode": {
    "name": "ipython",
    "version": 3
   },
   "file_extension": ".py",
   "mimetype": "text/x-python",
   "name": "python",
   "nbconvert_exporter": "python",
   "pygments_lexer": "ipython3",
   "version": "3.6.5"
  }
 },
 "nbformat": 4,
 "nbformat_minor": 2
}
