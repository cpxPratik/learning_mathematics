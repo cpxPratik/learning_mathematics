{
 "cells": [
  {
   "cell_type": "markdown",
   "metadata": {},
   "source": [
    "# What is a statistic? \n",
    "\n",
    "A statistic is anything that can be computed from the collected data. \n",
    "\n",
    "There are two general types of statistics:\n",
    "1. Point statistics: A single value computed from data, such as the sample average or sample standard deviation.\n",
    "2. Interval statistics: An interval [a,b] computed from the data. This is really just a pair of point statistics. \n",
    "\n",
    "\n",
    "Statistics deals with data. Generally speaking, there are two goals of statistics:\n",
    "\n",
    "1. Descritive statistics: It is solely concerned with properties of the observed data like mean, median and interquartile range.\n",
    "\n",
    "2. Inferential statistics: It is the process of using data analysis to deduce properties of an underlying probability distribution. Often this takes the form of specifying a statistical model for the random process by which the data arised. \n",
    "\n",
    "\n",
    "It's very much essential to know what distribution the data follows correctly."
   ]
  },
  {
   "cell_type": "code",
   "execution_count": null,
   "metadata": {},
   "outputs": [],
   "source": []
  }
 ],
 "metadata": {
  "kernelspec": {
   "display_name": "Python 3",
   "language": "python",
   "name": "python3"
  },
  "language_info": {
   "codemirror_mode": {
    "name": "ipython",
    "version": 3
   },
   "file_extension": ".py",
   "mimetype": "text/x-python",
   "name": "python",
   "nbconvert_exporter": "python",
   "pygments_lexer": "ipython3",
   "version": "3.6.5"
  }
 },
 "nbformat": 4,
 "nbformat_minor": 2
}
