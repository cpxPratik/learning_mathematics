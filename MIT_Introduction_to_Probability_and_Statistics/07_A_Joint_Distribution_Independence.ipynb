{
 "cells": [
  {
   "cell_type": "markdown",
   "metadata": {},
   "source": [
    "# Q. What is joint probability?\n",
    "\n",
    "Joint probability is defined as the probability of co-occurrence of two or more events together and at the same point.\n",
    "\n"
   ]
  },
  {
   "cell_type": "markdown",
   "metadata": {},
   "source": [
    "# Q. How joint probability is different from conditional probability?\n",
    "\n",
    "Joint Probability: It measures how likely it is that two (or more) things will both occur.\n",
    "\n",
    "Conditional Probability: It measures how likely one thing is to happen if you know that another thing has happened. \n",
    "\n",
    "Lets us consider\n",
    "\n",
    "Sample space S contains 13 items, A contains 10 items, B contains 6 items and 3 items are common in both A and B.\n",
    "\n",
    "Then, \n",
    "\n",
    "Joint Probability is $ P(A,B) = \\frac{P(A \\cap B)}{P(S)} = P(A \\cap B) $\n",
    "\n",
    "Conditional Probability is $ P(A|B) = \\frac{P(A \\cap B)}{P(B)} $"
   ]
  },
  {
   "cell_type": "markdown",
   "metadata": {},
   "source": [
    "# Q. What is marginal probability?\n",
    "\n",
    "When X and Y are jointly-distributed random variables, we may want to consider only one of them, say X. In that case we need to find the pmf (or pdf or cdf) of X without Y. This is called a marginal pmf (or pdf or cdf). \n",
    "\n",
    "In case of discrete, \n",
    "\n",
    "$ p_X(x_i) = \\sum_j{p(x_i, y_j)}$\n",
    "\n",
    "$ p_Y(y_j) = \\sum_i{p(x_i, y_j)}$\n",
    "\n",
    "For a continuous joint density f(x,y) with range [a,b] * [c,d], the marginal pdf's are:\n",
    "\n",
    "$ f_X(x) = \\int_{c}^{d} f(x,y) dy $\n",
    "\n",
    "$ f_Y(y) = \\int_{a}^{b} f(x,y) dx $\n",
    "\n",
    "A marginal probability can always be written as an expected value:\n",
    "\n",
    "$ p_X(x) = \\int_y p(x|y) p(y) dy = E_Y[p(x|y)] $\n",
    "\n",
    "Intuitively, the marginal probability of X is computed by examining the conditional probability of X given a particular value of Y, and then averaging this conditional probability over the distribution of all values of Y. \n",
    "\n",
    "This follows from the definition of expected value (after applying the law of the unconscious statistician):\n",
    "\n",
    "$ E_Y[f(Y)] = \\int_y f(y) p_Y(y)dy $\n",
    "\n",
    "More generally if probability mass function is f_X then the expected value of g(X) is \n",
    "\n",
    "$ E[g(X)] = \\sum g(x)f_X(x) = \\int g(x)f_X(x) dx $"
   ]
  },
  {
   "cell_type": "markdown",
   "metadata": {},
   "source": [
    "# Notes: On Expectation and Variance of conditional probability\n",
    "\n",
    "$ E(Y|X=x) = \\sum_i y_i p(y_i|X=x) = \\int y p(y|X=x)dy $\n",
    "\n",
    "$ Var(Y|X=x) = E((Y - E(Y|X=x))^2 |X=x) $"
   ]
  },
  {
   "cell_type": "markdown",
   "metadata": {},
   "source": [
    "# Notes: On Expectation of marginal probability\n",
    "\n",
    "$ E[X] = \\int \\int x p(x|y) dy dx $\n"
   ]
  },
  {
   "cell_type": "markdown",
   "metadata": {},
   "source": [
    "# Q. How to define the independence of two event based on joint probability distribution and marginal probability distribution.\n",
    "\n",
    "Jointly-distributed random variables X and Y are independent if their joint cdf is the product of the marginal cdf's:\n",
    "\n",
    "$ F(X,Y) = F_X(x) F_Y(y) $\n",
    "\n",
    "For discrete variables this is equivalent to the joint pmf being the product of the marginal pmf's:\n",
    "\n",
    "$ p(x,y) = p_X(x)p_Y(y) $\n",
    "\n",
    "For continuous variables this is equivalent to the joint pdf being the product of the marginal pdf's:\n",
    "\n",
    "$ f(x,y) = f_X(x) f_Y(y) $"
   ]
  },
  {
   "cell_type": "code",
   "execution_count": null,
   "metadata": {},
   "outputs": [],
   "source": []
  }
 ],
 "metadata": {
  "kernelspec": {
   "display_name": "Python 3",
   "language": "python",
   "name": "python3"
  },
  "language_info": {
   "codemirror_mode": {
    "name": "ipython",
    "version": 3
   },
   "file_extension": ".py",
   "mimetype": "text/x-python",
   "name": "python",
   "nbconvert_exporter": "python",
   "pygments_lexer": "ipython3",
   "version": "3.6.5"
  }
 },
 "nbformat": 4,
 "nbformat_minor": 2
}
